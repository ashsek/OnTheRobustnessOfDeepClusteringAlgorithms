{
 "cells": [
  {
   "cell_type": "code",
   "execution_count": null,
   "metadata": {},
   "outputs": [],
   "source": [
    "import json\n",
    "import requests\n",
    "import os\n",
    "import base64\n",
    "import sklearn\n",
    "\n",
    "from eval_cus import check\n",
    "import numpy as np\n",
    "from sklearn.metrics.cluster import normalized_mutual_info_score as nmi\n",
    "import torch\n"
   ]
  },
  {
   "cell_type": "code",
   "execution_count": null,
   "metadata": {},
   "outputs": [],
   "source": [
    "url = \"https://api-us.faceplusplus.com/imagepp/v1/facealbum/createalbum\"\n",
    "secret = \"\" \n",
    "key = \"\""
   ]
  },
  {
   "cell_type": "code",
   "execution_count": null,
   "metadata": {},
   "outputs": [],
   "source": [
    "k = requests.post(url, data={\"api_key\": key, \"api_secret\": secret})\n",
    "print(k.text\n",
    "     )"
   ]
  },
  {
   "cell_type": "code",
   "execution_count": null,
   "metadata": {},
   "outputs": [],
   "source": [
    "\n",
    "face_token = json.loads(k.text)[\"facealbum_token\"]"
   ]
  },
  {
   "cell_type": "code",
   "execution_count": null,
   "metadata": {
    "scrolled": true
   },
   "outputs": [],
   "source": [
    "#add image\n",
    "url = \"https://api-us.faceplusplus.com/imagepp/v1/facealbum/addimage\"\n",
    "path = \"custom3\"\n",
    "imageid2ground = {}\n",
    "images_stored = []\n",
    "no_faces = []\n",
    "faces = []\n",
    "\n",
    "persons = os.listdir(path)\n",
    "ground = 0\n",
    "for g, person in enumerate(persons):\n",
    "    if person.startswith('.'):\n",
    "        continue\n",
    "    \n",
    "#     print(ground, person)\n",
    "    co = 0\n",
    "    images = os.listdir(path + '/' + person)\n",
    "    print(f'curr:{ground} person:{person}')\n",
    "    for image in images:\n",
    "        print(f'curr:{ground} person:{person} co:{co}')\n",
    "        if co >= 20:\n",
    "            break\n",
    "        with open(path + '/' + person + '/'+ image, \"rb\") as img_file:\n",
    "            send_img64 = base64.b64encode(img_file.read())\n",
    "        response = requests.post(url, data={\"api_key\": key, \"api_secret\": secret, \"facealbum_token\": face_token, \"image_base64\":send_img64})\n",
    "#         print(response.text)\n",
    "        if not response.ok:\n",
    "            print(response.text)\n",
    "            no_faces.append(path + '/' + person + '/'+ image)\n",
    "            continue\n",
    "        else:\n",
    "            faces.append(path + '/' + person + '/'+ image)\n",
    "            \n",
    "        imgid = json.loads(response.text)[\"image_id\"]\n",
    "        imageid2ground[imgid] = ground\n",
    "        images_stored.append(str(path + '/' + person + '/'+ image))\n",
    "        co += 1\n",
    "    ground += 1"
   ]
  },
  {
   "cell_type": "code",
   "execution_count": null,
   "metadata": {},
   "outputs": [],
   "source": [
    "\n",
    "imageid2ground"
   ]
  },
  {
   "cell_type": "code",
   "execution_count": null,
   "metadata": {},
   "outputs": [],
   "source": [
    "len(imageid2ground\n",
    "   )"
   ]
  },
  {
   "cell_type": "code",
   "execution_count": null,
   "metadata": {},
   "outputs": [],
   "source": [
    "np.save('images_stored.npy', images_stored)\n"
   ]
  },
  {
   "cell_type": "code",
   "execution_count": null,
   "metadata": {},
   "outputs": [],
   "source": [
    "print(len(imageid2ground))"
   ]
  },
  {
   "cell_type": "code",
   "execution_count": null,
   "metadata": {},
   "outputs": [],
   "source": [
    "print(len(images_stored))"
   ]
  },
  {
   "cell_type": "code",
   "execution_count": null,
   "metadata": {},
   "outputs": [],
   "source": [
    "url = \"https://api-us.faceplusplus.com/imagepp/v1/facealbum/getalbumdetail\"\n",
    "response = requests.post(url, data={\"api_key\": key, \"api_secret\": secret, \"facealbum_token\": face_token})\n",
    "print(response.text)"
   ]
  },
  {
   "cell_type": "code",
   "execution_count": null,
   "metadata": {},
   "outputs": [],
   "source": [
    "url = \"https://api-us.faceplusplus.com/imagepp/v1/facealbum/groupface\"\n",
    "response = requests.post(url, data={\"api_key\": key, \"api_secret\": secret, \"facealbum_token\": face_token})\n",
    "print(response.text)\n"
   ]
  },
  {
   "cell_type": "code",
   "execution_count": null,
   "metadata": {},
   "outputs": [],
   "source": [
    "task_id = json.loads(response.text)[\"task_id\"]"
   ]
  },
  {
   "cell_type": "code",
   "execution_count": null,
   "metadata": {},
   "outputs": [],
   "source": [
    "url = \"https://api-us.faceplusplus.com/imagepp/v1/facealbum/getalbumdetail\"\n",
    "response = requests.post(url, data={\"api_key\": key, \"api_secret\": secret, \"facealbum_token\": face_token, \"task_id\": task_id})\n",
    "print(response.text)"
   ]
  },
  {
   "cell_type": "code",
   "execution_count": null,
   "metadata": {},
   "outputs": [],
   "source": [
    "start_token = ''\n",
    "predicted_clusters = []\n",
    "ground_truth = []\n",
    "url = \"https://api-us.faceplusplus.com/imagepp/v1/facealbum/getalbumdetail\"\n",
    "\n",
    "while(True):\n",
    "    if start_token:\n",
    "        response = requests.post(url, data={\"api_key\": key, \"api_secret\": secret, \"facealbum_token\": face_token, \"task_id\": task_id, \"start_token\": start_token})\n",
    "    else:\n",
    "        response = requests.post(url, data={\"api_key\": key, \"api_secret\": secret, \"facealbum_token\": face_token, \"task_id\": task_id})\n",
    "        \n",
    "    print(len(json.loads(response.text)[\"faces\"]))\n",
    "    \n",
    "    for j in json.loads(response.text)[\"faces\"]:\n",
    "        predicted_clusters.append(int(j[\"group_id\"]))\n",
    "        if j[\"group_id\"] == -1 or j[\"group_id\"] == '-1':\n",
    "            print(j)\n",
    "        ground_truth.append(imageid2ground[j[\"image_id\"]])\n",
    "        \n",
    "    try:\n",
    "        start_token = json.loads(response.text)[\"next_token\"]\n",
    "    except:\n",
    "        print(response.text)\n",
    "        break\n",
    "        \n"
   ]
  },
  {
   "cell_type": "code",
   "execution_count": null,
   "metadata": {},
   "outputs": [],
   "source": [
    "# predicted_clusters = []\n",
    "# ground_truth = []\n",
    "\n",
    "# print(len(json.loads(response.text)[\"faces\"]))\n",
    "# for j in json.loads(response.text)[\"faces\"]:\n",
    "#     predicted_clusters.append(int(j[\"group_id\"]))\n",
    "#     ground_truth.append(imageid2ground[j[\"image_id\"]])"
   ]
  },
  {
   "cell_type": "code",
   "execution_count": null,
   "metadata": {},
   "outputs": [],
   "source": [
    "# url = \"https://api-us.faceplusplus.com/imagepp/v1/facealbum/getalbumdetail\"\n",
    "# start_token = 0\n",
    "# predicted_clusters = []\n",
    "# ground_truth = []\n",
    "\n",
    "# while True:\n",
    "#     if start_token:\n",
    "#         response = requests.post(url, data={\"api_key\": key, \"api_secret\": secret, \"facealbum_token\": face_token, \"task_id\": task_id, \"start_token\":start_token})\n",
    "#         try:\n",
    "#             json.loads(response.text)[\"next_token\"]\n",
    "#         except:\n",
    "#             print(response.text)\n",
    "#             break\n",
    "#     else:\n",
    "#         response = requests.post(url, data={\"api_key\": key, \"api_secret\": secret, \"facealbum_token\": face_token, \"task_id\": task_id})\n",
    "    \n",
    "# #     start_token = json.loads(response.text)[\"next_token\"]\n",
    "#     for j in json.loads(response.text)[\"faces\"]:\n",
    "#         predicted_clusters.append(int(j[\"group_id\"]))\n",
    "#         ground_truth.append(imageid2ground[j[\"image_id\"]])\n",
    "    \n",
    "# # print(response.text)"
   ]
  },
  {
   "cell_type": "code",
   "execution_count": null,
   "metadata": {},
   "outputs": [],
   "source": [
    "print(len(predicted_clusters))\n"
   ]
  },
  {
   "cell_type": "code",
   "execution_count": null,
   "metadata": {},
   "outputs": [],
   "source": [
    "print(len(persons))"
   ]
  },
  {
   "cell_type": "code",
   "execution_count": null,
   "metadata": {},
   "outputs": [],
   "source": [
    "print(len(ground_truth))\n"
   ]
  },
  {
   "cell_type": "code",
   "execution_count": null,
   "metadata": {},
   "outputs": [],
   "source": [
    "# clas = len(np.unique(ground_truth))\n",
    "# ground_truth = torch.tensor(ground_truth).cuda()\n",
    "# predicted_clusters = torch.tensor(predicted_clusters).cuda()\n",
    "\n",
    "# p = check(ground_truth, predicted_clusters, num_classes=clas, class_names = [0]*clas)\n",
    "# print(p)"
   ]
  },
  {
   "cell_type": "code",
   "execution_count": null,
   "metadata": {},
   "outputs": [],
   "source": [
    "# print(nmi(ground_truth, predicted_clusters))"
   ]
  },
  {
   "cell_type": "code",
   "execution_count": null,
   "metadata": {},
   "outputs": [],
   "source": [
    "print(np.unique(ground_truth))"
   ]
  },
  {
   "cell_type": "code",
   "execution_count": null,
   "metadata": {},
   "outputs": [],
   "source": [
    "print(np.unique(predicted_clusters))"
   ]
  },
  {
   "cell_type": "code",
   "execution_count": null,
   "metadata": {},
   "outputs": [],
   "source": [
    "# zip(ground_truth, predicted_clusters)"
   ]
  },
  {
   "cell_type": "code",
   "execution_count": null,
   "metadata": {},
   "outputs": [],
   "source": [
    "from sklearn.metrics import normalized_mutual_info_score, adjusted_rand_score\n",
    "# from scipy.optimize import linear_sum_assignment as linear_assignment\n",
    "from sklearn.utils.linear_assignment_ import linear_assignment\n",
    "import pandas as pd\n",
    "\n",
    "def nmi(y_true, y_pred):\n",
    "    return normalized_mutual_info_score(y_true, y_pred)\n",
    "\n",
    "\n",
    "def ari(y_true, y_pred):\n",
    "    return adjusted_rand_score(y_true, y_pred)\n",
    "\n",
    "\n",
    "def acc(y_true, y_pred):\n",
    "    y_true, y_pred = pd.Series(list(y_true)), pd.Series(list(y_pred))\n",
    "    y_true = y_true.astype(np.int64)\n",
    "    assert y_pred.size == y_true.size\n",
    "    D = max(y_pred.max(), y_true.max()) + 1\n",
    "    w = np.zeros((D, D), dtype=np.int64)\n",
    "    for i in range(y_pred.size):\n",
    "        w[y_pred[i], y_true[i]] += 1\n",
    "    ind = linear_assignment(w.max() - w)\n",
    "    return sum([w[i, j] for i, j in ind]) * 1.0 / y_pred.size"
   ]
  },
  {
   "cell_type": "code",
   "execution_count": null,
   "metadata": {},
   "outputs": [],
   "source": [
    "acc(ground_truth, predicted_clusters)"
   ]
  },
  {
   "cell_type": "code",
   "execution_count": null,
   "metadata": {
    "scrolled": true
   },
   "outputs": [],
   "source": [
    "nmi(ground_truth, predicted_clusters)"
   ]
  },
  {
   "cell_type": "code",
   "execution_count": null,
   "metadata": {},
   "outputs": [],
   "source": [
    "ari(ground_truth, predicted_clusters)"
   ]
  },
  {
   "cell_type": "code",
   "execution_count": null,
   "metadata": {},
   "outputs": [],
   "source": []
  }
 ],
 "metadata": {
  "kernelspec": {
   "display_name": "Python 3",
   "language": "python",
   "name": "python3"
  },
  "language_info": {
   "codemirror_mode": {
    "name": "ipython",
    "version": 3
   },
   "file_extension": ".py",
   "mimetype": "text/x-python",
   "name": "python",
   "nbconvert_exporter": "python",
   "pygments_lexer": "ipython3",
   "version": "3.7.3"
  }
 },
 "nbformat": 4,
 "nbformat_minor": 2
}
