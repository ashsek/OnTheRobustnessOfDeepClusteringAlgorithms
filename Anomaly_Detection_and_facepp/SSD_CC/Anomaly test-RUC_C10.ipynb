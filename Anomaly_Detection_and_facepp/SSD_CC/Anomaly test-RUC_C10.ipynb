{
 "cells": [
  {
   "cell_type": "code",
   "execution_count": null,
   "metadata": {},
   "outputs": [],
   "source": [
    "from __future__ import print_function\n",
    "from __future__ import absolute_import\n",
    "\n",
    "import os\n",
    "import numpy as np\n",
    "import time\n",
    "import logging\n",
    "import argparse\n",
    "from collections import OrderedDict\n",
    "import faiss\n",
    "\n",
    "import torch\n",
    "import torch.nn as nn\n",
    "from rucloader import CIFAR10RUC\n",
    "from torch.utils.data.dataset import Dataset\n",
    "from torchvision import datasets, transforms\n",
    "\n",
    "from models import SupResNet, SSLResNet\n",
    "from utils2 import (\n",
    "    get_features,\n",
    "    get_features_adv_prob,\n",
    "    get_features_adv,\n",
    "    get_roc_sklearn,\n",
    "    get_pr_sklearn,\n",
    "    get_fpr,\n",
    "    get_outliers,\n",
    "    get_scores_one_cluster,\n",
    ")\n",
    "import data"
   ]
  },
  {
   "cell_type": "code",
   "execution_count": null,
   "metadata": {},
   "outputs": [],
   "source": [
    "\n",
    "\n",
    "#Helper functions"
   ]
  },
  {
   "cell_type": "code",
   "execution_count": null,
   "metadata": {},
   "outputs": [],
   "source": [
    "# local utils for SSD evaluation\n",
    "def get_scores(ftrain, ftest, food, labelstrain, args):\n",
    "    if args.clusters == 1:\n",
    "        return get_scores_one_cluster(ftrain, ftest, food)\n",
    "    else:\n",
    "        if args.training_mode == \"SupCE\":\n",
    "            print(\"Using data labels as cluster since model is cross-entropy\")\n",
    "            ypred = labelstrain\n",
    "        else:\n",
    "            ypred = get_clusters(ftrain, args.clusters)\n",
    "        return get_scores_multi_cluster(ftrain, ftest, food, ypred)"
   ]
  },
  {
   "cell_type": "code",
   "execution_count": null,
   "metadata": {},
   "outputs": [],
   "source": [
    "def get_clusters(ftrain, nclusters):\n",
    "    kmeans = faiss.Kmeans(\n",
    "        ftrain.shape[1], nclusters, niter=100, verbose=False, gpu=False\n",
    "    )\n",
    "    kmeans.train(np.random.permutation(ftrain))\n",
    "    _, ypred = kmeans.assign(ftrain)\n",
    "    return ypred\n",
    "\n",
    "\n",
    "def get_scores_multi_cluster(ftrain, ftest, food, ypred):\n",
    "    xc = [ftrain[ypred == i] for i in np.unique(ypred)]\n",
    "\n",
    "    din = [\n",
    "        np.sum(\n",
    "            (ftest - np.mean(x, axis=0, keepdims=True))\n",
    "            * (\n",
    "                np.linalg.pinv(np.cov(x.T, bias=True)).dot(\n",
    "                    (ftest - np.mean(x, axis=0, keepdims=True)).T\n",
    "                )\n",
    "            ).T,\n",
    "            axis=-1,\n",
    "        )\n",
    "        for x in xc\n",
    "    ]\n",
    "    dood = [\n",
    "        np.sum(\n",
    "            (food - np.mean(x, axis=0, keepdims=True))\n",
    "            * (\n",
    "                np.linalg.pinv(np.cov(x.T, bias=True)).dot(\n",
    "                    (food - np.mean(x, axis=0, keepdims=True)).T\n",
    "                )\n",
    "            ).T,\n",
    "            axis=-1,\n",
    "        )\n",
    "        for x in xc\n",
    "    ]\n",
    "\n",
    "    din = np.min(din, axis=0)\n",
    "    dood = np.min(dood, axis=0)\n",
    "\n",
    "    return din, dood\n",
    "\n",
    "\n",
    "def get_eval_results(ftrain, ftest, food, labelstrain, args):\n",
    "    \"\"\"\n",
    "    None.\n",
    "    \"\"\"\n",
    "    print(food)\n",
    "    print(food.shape)\n",
    "    # standardize data\n",
    "    ftrain /= np.linalg.norm(ftrain, axis=-1, keepdims=True) + 1e-10\n",
    "    ftest /= np.linalg.norm(ftest, axis=-1, keepdims=True) + 1e-10\n",
    "    food /= np.linalg.norm(food, axis=-1, keepdims=True) + 1e-10\n",
    "\n",
    "    m, s = np.mean(ftrain, axis=0, keepdims=True), np.std(ftrain, axis=0, keepdims=True)\n",
    "\n",
    "    ftrain = (ftrain - m) / (s + 1e-10)\n",
    "    ftest = (ftest - m) / (s + 1e-10)\n",
    "    food = (food - m) / (s + 1e-10)\n",
    "\n",
    "    dtest, dood = get_scores(ftrain, ftest, food, labelstrain, args)\n",
    "\n",
    "    fpr95 = get_fpr(dtest, dood)\n",
    "    auroc, aupr = get_roc_sklearn(dtest, dood), get_pr_sklearn(dtest, dood)\n",
    "    return fpr95, auroc, aupr\n",
    "\n",
    "def get_eval_results_adv(ftrain, ftest, food, labelstrain, args):\n",
    "    \"\"\"\n",
    "    None.\n",
    "    \"\"\"\n",
    "    print(food)\n",
    "    print(food.shape)\n",
    "    # standardize data\n",
    "    ftrain /= np.linalg.norm(ftrain, axis=-1, keepdims=True) + 1e-10\n",
    "    ftest /= np.linalg.norm(ftest, axis=-1, keepdims=True) + 1e-10\n",
    "    food /= np.linalg.norm(food, axis=-1, keepdims=True) + 1e-10\n",
    "\n",
    "    m, s = np.mean(ftrain, axis=0, keepdims=True), np.std(ftrain, axis=0, keepdims=True)\n",
    "\n",
    "    ftrain = (ftrain - m) / (s + 1e-10)\n",
    "    ftest = (ftest - m) / (s + 1e-10)\n",
    "    food = (food - m) / (s + 1e-10)\n",
    "\n",
    "    dtest, dood = get_scores(ftrain, ftest, food, labelstrain, args)\n",
    "\n",
    "    fpr95 = get_fpr(dtest, dood)\n",
    "    yo = get_outliers(dtest, dood, percentile=99)\n",
    "    auroc, aupr = get_roc_sklearn(dtest, dood), get_pr_sklearn(dtest, dood)\n",
    "    return fpr95, auroc, aupr, dood, dtest, yo\n"
   ]
  },
  {
   "cell_type": "code",
   "execution_count": null,
   "metadata": {},
   "outputs": [],
   "source": [
    "parser = argparse.ArgumentParser(description=\"SSD evaluation\")\n",
    "\n",
    "parser.add_argument(\"--exp-name\", type=str, default=\"temp_eval_ssd\")\n",
    "parser.add_argument(\n",
    "\"--training-mode\", type=str,default=\"SimCLR\", choices=(\"SimCLR\", \"SupCon\", \"SupCE\")\n",
    ")\n",
    "parser.add_argument(\"--results-dir\", type=str, default=\"./eval_results\")\n",
    "\n",
    "parser.add_argument(\"--arch\", type=str, default=\"resnet18\")\n",
    "parser.add_argument(\"--classes\", type=int, default=10)\n",
    "parser.add_argument(\"--clusters\", type=int, default=1)\n",
    "\n",
    "parser.add_argument(\"--dataset\", type=str, default=\"cifar10\")\n",
    "parser.add_argument(\n",
    "\"--data-dir\", type=str, default=\"datasets/\"\n",
    ")\n",
    "parser.add_argument(\n",
    "\"--data-mode\", type=str, choices=(\"org\", \"base\", \"ssl\"), default=\"base\"\n",
    ")\n",
    "parser.add_argument(\"--normalize\", action=\"store_true\", default=True)\n",
    "parser.add_argument(\"--batch-size\", type=int, default=256)\n",
    "parser.add_argument(\"--size\", type=int, default=32)\n",
    "\n",
    "parser.add_argument(\"--gpu\", type=str, default=\"0\")\n",
    "parser.add_argument(\"--ckpt\", type=str, help=\"checkpoint path\")\n",
    "parser.add_argument(\"--seed\", type=int, default=12345)\n",
    "\n",
    "args = parser.parse_args([])\n",
    "device = \"cuda:0\""
   ]
  },
  {
   "cell_type": "code",
   "execution_count": null,
   "metadata": {},
   "outputs": [],
   "source": [
    "args.ckpt= \"./saves/c10r183/1--dataset-ruccifar10-arch-resnet18-lr-0.5_epochs-500/checkpoint/checkpoint_500.pth.tar\"\n",
    "\n"
   ]
  },
  {
   "cell_type": "code",
   "execution_count": null,
   "metadata": {},
   "outputs": [],
   "source": [
    "if not os.path.isdir(args.results_dir):\n",
    "        os.mkdir(args.results_dir)\n",
    "\n",
    "results_file = os.path.join(args.results_dir, args.exp_name + \"_ssd.txt\")\n",
    "\n",
    "logging.basicConfig(level=logging.INFO, format=\"%(message)s\")\n",
    "logger = logging.getLogger()\n",
    "logger.addHandler(logging.FileHandler(results_file, \"a\"))\n",
    "logger.info(args)\n",
    "\n",
    "torch.manual_seed(args.seed)\n",
    "torch.cuda.manual_seed(args.seed)\n",
    "torch.cuda.manual_seed_all(args.seed)\n"
   ]
  },
  {
   "cell_type": "code",
   "execution_count": null,
   "metadata": {},
   "outputs": [],
   "source": [
    "# create model\n",
    "if args.training_mode in [\"SimCLR\", \"SupCon\"]:\n",
    "    model = SSLResNet(arch=args.arch).eval()\n",
    "elif args.training_mode == \"SupCE\":\n",
    "    model = SupResNet(arch=args.arch, num_classes=args.classes).eval()\n",
    "else:\n",
    "    raise ValueError(\"Provide model class\")\n",
    "model.encoder = nn.DataParallel(model.encoder).to(device)"
   ]
  },
  {
   "cell_type": "code",
   "execution_count": null,
   "metadata": {},
   "outputs": [],
   "source": [
    "# load checkpoint\n",
    "ckpt_dict = torch.load(args.ckpt, map_location=\"cpu\")\n",
    "if \"model\" in ckpt_dict.keys():\n",
    "    ckpt_dict = ckpt_dict[\"model\"]\n",
    "if \"state_dict\" in ckpt_dict.keys():\n",
    "    ckpt_dict = ckpt_dict[\"state_dict\"]\n",
    "model.load_state_dict(ckpt_dict)"
   ]
  },
  {
   "cell_type": "code",
   "execution_count": null,
   "metadata": {},
   "outputs": [],
   "source": [
    "# dataloaders\n",
    "# train_loader, test_loader, norm_layer = data.__dict__[args.dataset](\n",
    "#     args.data_dir,\n",
    "#     args.batch_size,\n",
    "#     mode=args.data_mode,\n",
    "#     normalize=args.normalize,\n",
    "#     size=args.size,\n",
    "# )\n",
    "# if args.dataset == 'ruccifar10':\n",
    "args.dataset = 'cifar10'\n",
    "mean = (0.4914, 0.4822, 0.4465)\n",
    "std = (0.2023, 0.1994, 0.2010)\n",
    "transform_test = transforms.Compose([\n",
    "transforms.Resize(32),\n",
    "transforms.CenterCrop(32),\n",
    "transforms.ToTensor(),\n",
    "transforms.Normalize(mean=mean, std=std),\n",
    "])\n",
    "\n",
    "trainset = CIFAR10RUC(root=\"./data\", transform=transform_test, download=True)\n",
    "train_loader = torch.utils.data.DataLoader(trainset, batch_size=args.batch_size, shuffle=True, drop_last=False)\n",
    "testset = CIFAR10RUC(root=\"./data\", transform=transform_test, download=True)\n",
    "test_loader = torch.utils.data.DataLoader(testset, batch_size=100, shuffle=False)\n",
    "        \n",
    "\n",
    "features_train, labels_train = get_features(\n",
    "    model.encoder, train_loader\n",
    ")  # using feature befor MLP-head\n",
    "features_test, _ = get_features(model.encoder, test_loader)\n",
    "print(\"In-distribution features shape: \", features_train.shape, features_test.shape)\n",
    "\n",
    "ds = [\"cifar10\", \"cifar100\", \"stl\"]\n",
    "# ds.remove(args.dataset)\n"
   ]
  },
  {
   "cell_type": "code",
   "execution_count": null,
   "metadata": {},
   "outputs": [],
   "source": [
    "#Adversarial NMI, ARI, F, and ACC\n",
    "device = 'cuda'\n",
    "import models_clu\n",
    "\n",
    "gen_input_nc = 3\n",
    "# load the generator of adversarial examples\n",
    "# pretrained_generator_path = './models/netG_cc_epoch_120.pth'\n",
    "pretrained_generator_path = '../../Generator_Models/CIFAR10/RUC_C10.pth'\n",
    "pretrained_G = models_clu.Generator(gen_input_nc, 3).to(device)\n",
    "pretrained_G.load_state_dict(torch.load(pretrained_generator_path))\n",
    "pretrained_G.eval()"
   ]
  },
  {
   "cell_type": "code",
   "execution_count": null,
   "metadata": {},
   "outputs": [],
   "source": [
    "# for d in ds:\n",
    "d = 'cifar10'\n",
    "# _, ood_loader, _ = data.__dict__[d](\n",
    "#     args.data_dir,\n",
    "#     args.batch_size,\n",
    "#     mode=\"base\",\n",
    "#     normalize=args.normalize,\n",
    "#     norm_layer=norm_layer,\n",
    "#     size=args.size,\n",
    "# )\n",
    "\n",
    "ood_loader = test_loader\n",
    "\n",
    "\n",
    "features_ood, _ = get_features(model.encoder, ood_loader)\n",
    "#     features_ood, _ = get_features_adv(model.encoder, ood_loader, pretrained_G)\n",
    "print(\"Out-of-distribution features shape: \", features_ood.shape)\n",
    "\n",
    "fpr95, auroc, aupr = get_eval_results(\n",
    "    np.copy(features_train),\n",
    "    np.copy(features_test),\n",
    "    np.copy(features_ood),\n",
    "    np.copy(labels_train),\n",
    "    args,\n",
    ")\n",
    "\n",
    "logger.info(\n",
    "    f\"In-data = {args.dataset}, OOD = {d}, Clusters = {args.clusters}, FPR95 = {fpr95}, AUROC = {auroc}, AUPR = {aupr}\"\n",
    ")"
   ]
  },
  {
   "cell_type": "code",
   "execution_count": null,
   "metadata": {},
   "outputs": [],
   "source": [
    "# d = 'cifar10'\n",
    "# _, ood_loader, _ = data.__dict__[d](\n",
    "#     args.data_dir,\n",
    "#     args.batch_size,\n",
    "#     mode=\"base\",\n",
    "#     normalize=args.normalize,\n",
    "#     norm_layer=norm_layer,\n",
    "#     size=args.size,\n",
    "# )\n",
    "#     features_ood, _ = get_features(model.encoder, ood_loader)\n",
    "features_ood, _ = get_features_adv(model.encoder, ood_loader, pretrained_G)\n",
    "print(\"Out-of-distribution features shape: \", features_ood.shape)\n",
    "\n",
    "fpr95, auroc, aupr = get_eval_results(\n",
    "    np.copy(features_train),\n",
    "    np.copy(features_test),\n",
    "    np.copy(features_ood),\n",
    "    np.copy(labels_train),\n",
    "    args,\n",
    ")\n",
    "\n",
    "logger.info(\n",
    "    f\"In-data = {args.dataset}, OOD = {d}, Clusters = {args.clusters}, FPR95 = {fpr95}, AUROC = {auroc}, AUPR = {aupr}\"\n",
    ")"
   ]
  },
  {
   "cell_type": "code",
   "execution_count": null,
   "metadata": {},
   "outputs": [],
   "source": [
    "# plt.plot(ood)"
   ]
  },
  {
   "cell_type": "code",
   "execution_count": null,
   "metadata": {},
   "outputs": [],
   "source": [
    "# d = 'cifar10'\n",
    "# _, ood_loader, _ = data.__dict__[d](\n",
    "#     args.data_dir,\n",
    "#     args.batch_size,\n",
    "    \n",
    "#     mode=\"base\",\n",
    "#     normalize=args.normalize,\n",
    "#     norm_layer=norm_layer,\n",
    "#     size=args.size,\n",
    "# )\n",
    "features_ood, _ = get_features(model.encoder, ood_loader)\n",
    "features_ood, labels_ood ,imgc, ad_index, dl2  = get_features_adv_prob(model.encoder, ood_loader, pretrained_G, clamp=0.2)\n",
    "print(\"Out-of-distribution features shape: \", features_ood.shape)\n",
    "\n",
    "fpr95, auroc, aupr, dood, dtest, yo = get_eval_results_adv(\n",
    "    np.copy(features_train),\n",
    "    np.copy(features_test),\n",
    "    np.copy(features_ood),\n",
    "    np.copy(labels_train),\n",
    "    args,\n",
    ")\n",
    "\n",
    "logger.info(\n",
    "    f\"In-data = {args.dataset}, OOD = {d}, Clusters = {args.clusters}, FPR95 = {fpr95}, AUROC = {auroc}, AUPR = {aupr}\"\n",
    ")"
   ]
  },
  {
   "cell_type": "code",
   "execution_count": null,
   "metadata": {},
   "outputs": [],
   "source": [
    "import matplotlib.pyplot as plt\n",
    "plt.plot(range(50000) ,dood)\n",
    "# plt.plot(range(10000) ,dtest)\n",
    "plt.show()"
   ]
  },
  {
   "cell_type": "code",
   "execution_count": null,
   "metadata": {},
   "outputs": [],
   "source": [
    "import matplotlib.pyplot as plt\n",
    "plt.plot(range(50000) ,dood)\n",
    "plt.plot(range(50000) ,dtest)\n",
    "plt.show()"
   ]
  },
  {
   "cell_type": "code",
   "execution_count": null,
   "metadata": {},
   "outputs": [],
   "source": [
    "import matplotlib.pyplot as plt\n",
    "plt.plot(range(50000) ,dood, color=\"tab:red\", label=\"Adversarial Distribution\", linewidth=2)\n",
    "plt.plot(range(50000) ,dtest, color=\"tab:blue\", label=\"Original Distribution\", linewidth=2)\n",
    "\n",
    "plt.margins(0)\n",
    "plt.tick_params(top='off', bottom='off', left='off', right='off', labelleft='off', labelbottom='off')\n",
    "# plt.axis('off')\n",
    "\n",
    "# plt.xticks([])\n",
    "# plt.yticks([])\n",
    "plt.ylabel('Feature Values', fontsize= 15)\n",
    "plt.xlabel('Sample Id', fontsize= 15)\n",
    "plt.legend(fontsize= 15)\n",
    "plt.grid()\n",
    "plt.tight_layout()\n",
    "plt.savefig('Anomaly_C10_RUC.pdf', dpi=600, bbox_inches='tight')\n",
    "plt.show()"
   ]
  },
  {
   "cell_type": "code",
   "execution_count": null,
   "metadata": {
    "scrolled": true
   },
   "outputs": [],
   "source": [
    "len(ad_index)"
   ]
  },
  {
   "cell_type": "code",
   "execution_count": null,
   "metadata": {
    "scrolled": true
   },
   "outputs": [],
   "source": [
    "# co = 0\n",
    "# co2 = 0\n",
    "# for j in ad_index:\n",
    "#     if yo[j] == 1:\n",
    "#         co += 1\n",
    "#     if yo[j] != 1:\n",
    "#         co2 += 1\n",
    "# print(co)"
   ]
  },
  {
   "cell_type": "code",
   "execution_count": null,
   "metadata": {},
   "outputs": [],
   "source": [
    "# co2"
   ]
  },
  {
   "cell_type": "code",
   "execution_count": null,
   "metadata": {},
   "outputs": [],
   "source": [
    "yo.count(1)"
   ]
  },
  {
   "cell_type": "code",
   "execution_count": null,
   "metadata": {},
   "outputs": [],
   "source": [
    "yo.count(0)"
   ]
  },
  {
   "cell_type": "code",
   "execution_count": null,
   "metadata": {},
   "outputs": [],
   "source": [
    "#averae of 100 runs\n",
    "avg_l = []\n",
    "avg_co = []"
   ]
  },
  {
   "cell_type": "code",
   "execution_count": null,
   "metadata": {
    "scrolled": true
   },
   "outputs": [],
   "source": [
    "for _ in range(100):\n",
    "#     d = 'cifar10'\n",
    "#     _, ood_loader, _ = data.__dict__[d](\n",
    "#         args.data_dir,\n",
    "#         args.batch_size,\n",
    "\n",
    "#         mode=\"base\",\n",
    "#         normalize=args.normalize,\n",
    "#         norm_layer=norm_layer,\n",
    "#         size=args.size,\n",
    "#     )\n",
    "    features_ood, _ = get_features(model.encoder, ood_loader)\n",
    "    features_ood, labels_ood ,imgc, ad_index, dl2  = get_features_adv_prob(model.encoder, ood_loader, pretrained_G, clamp=0.1)\n",
    "#     print(\"Out-of-distribution features shape: \", features_ood.shape)\n",
    "\n",
    "    fpr95, auroc, aupr, dood, dtest, yo = get_eval_results_adv(\n",
    "        np.copy(features_train),\n",
    "        np.copy(features_test),\n",
    "        np.copy(features_ood),\n",
    "        np.copy(labels_train),\n",
    "        args,\n",
    "    )\n",
    "    co = 0\n",
    "    for j in ad_index:\n",
    "        if yo[j] == 1:\n",
    "            co += 1\n",
    "\n",
    "    avg_l += [len(ad_index)]\n",
    "    avg_co += [co]"
   ]
  },
  {
   "cell_type": "code",
   "execution_count": null,
   "metadata": {},
   "outputs": [],
   "source": [
    "# print(avg_l/100, avg_co/100)"
   ]
  },
  {
   "cell_type": "code",
   "execution_count": null,
   "metadata": {},
   "outputs": [],
   "source": [
    "avg_l"
   ]
  },
  {
   "cell_type": "code",
   "execution_count": null,
   "metadata": {},
   "outputs": [],
   "source": [
    "avg_co"
   ]
  },
  {
   "cell_type": "code",
   "execution_count": null,
   "metadata": {},
   "outputs": [],
   "source": [
    "import statistics as st\n",
    "print(f'Mean {st.mean(avg_l)}, std: {st.stdev(avg_l)}')"
   ]
  },
  {
   "cell_type": "code",
   "execution_count": null,
   "metadata": {},
   "outputs": [],
   "source": [
    "print(f'Mean {st.mean(avg_co)}, std: {st.stdev(avg_co)}')"
   ]
  },
  {
   "cell_type": "code",
   "execution_count": null,
   "metadata": {},
   "outputs": [],
   "source": []
  }
 ],
 "metadata": {
  "kernelspec": {
   "display_name": "Python 3",
   "language": "python",
   "name": "python3"
  },
  "language_info": {
   "codemirror_mode": {
    "name": "ipython",
    "version": 3
   },
   "file_extension": ".py",
   "mimetype": "text/x-python",
   "name": "python",
   "nbconvert_exporter": "python",
   "pygments_lexer": "ipython3",
   "version": "3.7.3"
  }
 },
 "nbformat": 4,
 "nbformat_minor": 2
}
