{
 "cells": [
  {
   "cell_type": "code",
   "execution_count": null,
   "metadata": {},
   "outputs": [],
   "source": [
    "#CIFAR-10\n",
    "import os\n",
    "import argparse\n",
    "import torch\n",
    "\n",
    "\n",
    "\n",
    "import torchvision\n",
    "import numpy as np\n",
    "from modules import resnet, network, transform\n",
    "# from evaluation import evaluation\n",
    "\n",
    "from torch.utils import data\n",
    "import copy\n",
    "import gc\n",
    "import matplotlib.pyplot as plt\n",
    "from matplotlib import pyplot\n"
   ]
  },
  {
   "cell_type": "code",
   "execution_count": null,
   "metadata": {},
   "outputs": [],
   "source": [
    "#Adversarial NMI, ARI, F, and ACC\n",
    "device = 'cuda'\n",
    "import models_clu\n",
    "\n",
    "gen_input_nc = 3\n",
    "# load the generator of adversarial examples\n",
    "pretrained_generator_path = 'netG_cc_yale-attack_epoch_300.pth'\n",
    "# pretrained_generator_path = 'netG_cc_yale-attack2_epoch_30.pth'\n",
    "pretrained_G = models_clu.Generator(gen_input_nc, 3).to(device)\n",
    "pretrained_G.load_state_dict(torch.load(pretrained_generator_path))\n",
    "pretrained_G.eval()"
   ]
  },
  {
   "cell_type": "code",
   "execution_count": null,
   "metadata": {},
   "outputs": [],
   "source": [
    "from scipy.misc import imread\n",
    "\n",
    "import matplotlib.pyplot as plt\n",
    "\n",
    "x = imread('./ExtendedYaleB/yaleB20/yaleB20_P04A+025E+00.pgm').astype(float)\n",
    "#x = np.divide(x, np.max(x))\n",
    "print(x)\n",
    "\n",
    "\n",
    "plt.imshow(x)\n",
    "plt.show()\n",
    "plt.imsave('./ExtendedYaleB_adv/yaleB20_P04A+025E+00.jpeg', x)"
   ]
  },
  {
   "cell_type": "code",
   "execution_count": null,
   "metadata": {},
   "outputs": [],
   "source": [
    "from PIL import Image\n",
    "\n",
    "x = np.array(Image.open('./ExtendedYaleB/yaleB20/yaleB20_P04A+025E+00.pgm'))\n",
    "x = np.divide(x, 255)\n",
    "\n",
    "print(x)\n",
    "\n",
    "plt.imshow(x, cmap='gray')\n",
    "plt.show()\n",
    "plt.imsave('./ExtendedYaleB_adv/test.jpeg', x, cmap='gray')"
   ]
  },
  {
   "cell_type": "code",
   "execution_count": null,
   "metadata": {},
   "outputs": [],
   "source": [
    "# x = torch.from_numpy(x)\n",
    "# perturbation = pretrained_G(x)     \n",
    "\n",
    "# perturbation = torch.clamp(perturbation, -0.05, 0.05)\n",
    "# adv_img = perturbation + x\n",
    "# adv_img = torch.clamp(adv_img, 0, 1)"
   ]
  },
  {
   "cell_type": "code",
   "execution_count": null,
   "metadata": {},
   "outputs": [],
   "source": [
    "# import cv2\n",
    "\n",
    "# # x = cv2.cvtColor('./ExtendedYaleB/yaleB20/yaleB20_P04A+025E+00.pgm', cv2.COLOR_BGR2RGB)\n",
    "# x = cv2.imread('./ExtendedYaleB/yaleB20/yaleB20_P04A+025E+00.pgm',-1) \n",
    "# x = np.array(x)\n",
    "# x\n"
   ]
  },
  {
   "cell_type": "code",
   "execution_count": null,
   "metadata": {},
   "outputs": [],
   "source": [
    "path = \"ExtendedYaleB\"\n",
    "imageid2ground = {}\n",
    "images_stored = []\n",
    "\n",
    "persons = os.listdir(path)\n",
    "\n",
    "for ground, person in enumerate(persons):\n",
    "    co = 0\n",
    "    images = os.listdir(path + '/' + person)\n",
    "#     print(f'curr:{ground} person:{person}')\n",
    "    for image in images:\n",
    "#         print(f'curr:{ground} person:{person} co:{co}')\n",
    "        if co > 10:\n",
    "            break\n",
    "#         with open(path + '/' + person + '/'+ image, \"rb\") as img_file:\n",
    "#             img = img_file.read()"
   ]
  },
  {
   "cell_type": "code",
   "execution_count": null,
   "metadata": {},
   "outputs": [],
   "source": [
    "dataset = torchvision.datasets.ImageFolder(\n",
    "    root='./ExtendedYaleB',\n",
    "    transform=transform.Transforms(size=(192)).test_transform,\n",
    ")\n",
    "\n",
    "data_loader = torch.utils.data.DataLoader(\n",
    "        dataset,\n",
    "        batch_size=64,\n",
    "        drop_last=True,\n",
    "        num_workers=1,\n",
    ")"
   ]
  },
  {
   "cell_type": "code",
   "execution_count": null,
   "metadata": {},
   "outputs": [],
   "source": [
    "label_map = {}\n",
    "co = 0\n",
    "\n",
    "persons = os.listdir(path)\n",
    "\n",
    "for ground, person in enumerate(persons):\n",
    "    label_map[ground] = person\n",
    "label_map"
   ]
  },
  {
   "cell_type": "code",
   "execution_count": null,
   "metadata": {},
   "outputs": [],
   "source": [
    "from collections import defaultdict\n",
    "import os\n",
    "\n",
    "# file_nu = defaultdict(int)\n",
    "def save(img, label, file_nu, adv= False):\n",
    "    folder = label_map[label]\n",
    "    root='./custom3'\n",
    "    if adv:\n",
    "        root = './custom_adv3'\n",
    "    try:\n",
    "        os.mkdir(f'{root}/{folder}')\n",
    "    except:\n",
    "        pass\n",
    "        \n",
    "    plt.imsave(f'{root}/{folder}/{file_nu[folder]}.jpeg', img, cmap='gray')\n",
    "    file_nu[folder] += 1\n",
    "    "
   ]
  },
  {
   "cell_type": "code",
   "execution_count": null,
   "metadata": {},
   "outputs": [],
   "source": [
    "# # # create sub-folders\n",
    "# # for j in d.keys():\n",
    "# os.mkdir('./custom/yolo')\n",
    "    "
   ]
  },
  {
   "cell_type": "code",
   "execution_count": null,
   "metadata": {},
   "outputs": [],
   "source": [
    "def process_batch(images, labels):\n",
    "    perturbation = pretrained_G(images.cuda())\n",
    "    perturbation = torch.clamp(perturbation, -0.07, 0.07)\n",
    "    adv_imgs = perturbation + images.cuda()\n",
    "    adv_imgs = torch.clamp(adv_imgs, 0, 1)\n",
    "    \n",
    "    \n",
    "    for i in range(len(images)):\n",
    "        img = np.transpose(images[i], (1, 2, 0))\n",
    "#         plt.imshow(img)\n",
    "#         plt.show()\n",
    "        try:\n",
    "            adv_img = adv_imgs[i].detach().cpu().numpy() \n",
    "        except:\n",
    "            pass\n",
    "        \n",
    "        adv_img = np.transpose(adv_img, (1, 2, 0))\n",
    "#         plt.imshow(adv_img)\n",
    "#         plt.show()\n",
    "#         break\n",
    "        \n",
    "        save(img, int(labels[i]), file_nu)\n",
    "    \n",
    "        save(adv_img, int(labels[i]), file_nu_adv, adv=True)\n",
    "        \n",
    "    torch.cuda.empty_cache()\n",
    "#     break"
   ]
  },
  {
   "cell_type": "code",
   "execution_count": null,
   "metadata": {},
   "outputs": [],
   "source": [
    "# for ground, person in enumerate(persons):\n",
    "#     co = 0\n",
    "#     images = os.listdir(path + '/' + person)\n",
    "\n",
    "file_nu = defaultdict(int)\n",
    "file_nu_adv = defaultdict(int)\n",
    "for step, (x, y) in enumerate(data_loader):\n",
    "    torch.cuda.empty_cache()\n",
    "    process_batch(x,y)\n",
    "    torch.cuda.empty_cache()\n",
    "#     break\n",
    "        "
   ]
  },
  {
   "cell_type": "code",
   "execution_count": null,
   "metadata": {},
   "outputs": [],
   "source": []
  },
  {
   "cell_type": "code",
   "execution_count": null,
   "metadata": {},
   "outputs": [],
   "source": []
  }
 ],
 "metadata": {
  "kernelspec": {
   "display_name": "Python 3",
   "language": "python",
   "name": "python3"
  },
  "language_info": {
   "codemirror_mode": {
    "name": "ipython",
    "version": 3
   },
   "file_extension": ".py",
   "mimetype": "text/x-python",
   "name": "python",
   "nbconvert_exporter": "python",
   "pygments_lexer": "ipython3",
   "version": "3.7.3"
  }
 },
 "nbformat": 4,
 "nbformat_minor": 2
}
