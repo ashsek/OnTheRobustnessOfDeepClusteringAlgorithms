{
 "cells": [
  {
   "cell_type": "markdown",
   "metadata": {},
   "source": [
    "# Original MICE"
   ]
  },
  {
   "cell_type": "code",
   "execution_count": null,
   "metadata": {},
   "outputs": [],
   "source": [
    "from __future__ import print_function\n",
    "import os\n",
    "import torch\n",
    "import torch.backends.cudnn as cudnn\n",
    "import argparse\n",
    "import time\n",
    "from torchvision import transforms, datasets\n",
    "import torchvision\n",
    "from dataset import *\n",
    "from torch.utils.data import ConcatDataset\n",
    "from util import *\n",
    "from torch.utils import data\n",
    "\n",
    "from ELBO import MiCE_ELBO\n",
    "from sklearn import metrics"
   ]
  },
  {
   "cell_type": "code",
   "execution_count": null,
   "metadata": {},
   "outputs": [],
   "source": [
    "dataset = 'cifar20'\n",
    "batch_size = 256\n",
    "num_workers = 32\n",
    "model = 'resnet34_cifar'\n",
    "low_dim = 128\n",
    "nu = 16384\n",
    "tau = 1.0\n",
    "gpu = 0\n",
    "\n",
    "# Modify this\n",
    "test_path = 'model_save/cifar20_nu16384_resnet34_cifar_lr1.0_bsz256_epoch3000_tau1.0/ckpt_epoch_3000.pth'"
   ]
  },
  {
   "cell_type": "code",
   "execution_count": null,
   "metadata": {},
   "outputs": [],
   "source": [
    "import matplotlib.pyplot as plt\n",
    "from matplotlib import pyplot\n",
    "\n",
    "def plot_examples(images, labels):\n",
    "    print(type(images[0]), type(labels))\n",
    "    print(images.shape)\n",
    "    w = 10\n",
    "    h = 10\n",
    "    fig = plt.figure(figsize=(10, 20))\n",
    "    columns = 11\n",
    "    rows = 12\n",
    "    for i in range(10):\n",
    "#         img = np.random.randint(10, size=(h,w))\n",
    "        fig.add_subplot(rows, columns, i+1)\n",
    "#         img = images[i] / 2 + 0.5   # unnormalize\n",
    "        img = images[i]\n",
    "        npimg = img.detach().cpu().numpy()   # convert from tensor\n",
    "        \n",
    "        plt.imshow(np.transpose(npimg, (1, 2, 0))) \n",
    "        plt.title('#{}: {}'.format(i, labels[i]))\n",
    "    plt.show()\n",
    "    "
   ]
  },
  {
   "cell_type": "code",
   "execution_count": null,
   "metadata": {},
   "outputs": [],
   "source": [
    "import sys\n",
    "def get_MiCE_performance(model, model_ema, elbo, dataloader, ndata, n_class, batchSize=100):\n",
    "    model.eval()\n",
    "    model_ema.eval()\n",
    "    all_cluster_labels = []\n",
    "    all_true_labels = []\n",
    "    all_pi_labels = []\n",
    "\n",
    "    with torch.no_grad():\n",
    "        for batch_idx, (inputs, targets) in enumerate(dataloader):\n",
    "            x1, x2, x3 = inputs[0].cuda(), inputs[1].cuda(), inputs[2].cuda()\n",
    "            \n",
    "            targets = targets.cuda()\n",
    "            \n",
    "            with torch.no_grad():\n",
    "                f = model(x1)\n",
    "                v = model_ema(x2)\n",
    "                _, g = model(x3, True)\n",
    "\n",
    "            loss, out, posterior, pi_logit = elbo(f, v, g)\n",
    "#             print(posterior)\n",
    "            feat_pseudo_label = torch.argmax(posterior, dim=1)  # batch x 1\n",
    "            pi_label = torch.argmax(pi_logit, dim=1)\n",
    "            all_cluster_labels.extend(list(feat_pseudo_label.data.cpu().numpy()))\n",
    "            all_true_labels.extend(list(targets.data.cpu().numpy()))\n",
    "            all_pi_labels.extend(list(pi_label.data.cpu().numpy()))\n",
    "\n",
    "    all_true_labels = np.array(all_true_labels)\n",
    "    all_cluster_labels = np.array(all_cluster_labels)\n",
    "    all_pi_labels = np.array(all_pi_labels)\n",
    "\n",
    "    print(\"True label stat:\", np.bincount(all_true_labels.astype(int)))\n",
    "    print(\"Cluster label stat:\", np.bincount(all_cluster_labels.astype(int)))\n",
    "\n",
    "    mice_acc = acc(all_true_labels, all_cluster_labels)\n",
    "    pi_cluster_acc = acc(all_true_labels, all_pi_labels)\n",
    "\n",
    "    nmi = metrics.normalized_mutual_info_score(labels_true=all_true_labels, labels_pred=all_cluster_labels)\n",
    "    ari = metrics.adjusted_rand_score(labels_true=all_true_labels, labels_pred=all_cluster_labels)\n",
    "    return mice_acc, pi_cluster_acc, nmi, ari"
   ]
  },
  {
   "cell_type": "code",
   "execution_count": null,
   "metadata": {},
   "outputs": [],
   "source": [
    "image_size, mean, std, n_class = get_dataset_stat('cifar20')\n",
    "print(image_size, mean, std)\n",
    "normalize = transforms.Normalize(mean=mean, std=std)"
   ]
  },
  {
   "cell_type": "code",
   "execution_count": null,
   "metadata": {},
   "outputs": [],
   "source": [
    "    train_transform = transforms.Compose([\n",
    "        transforms.Resize((32, 32)),\n",
    "        transforms.ToTensor(),\n",
    "        normalize,\n",
    "    ])"
   ]
  },
  {
   "cell_type": "code",
   "execution_count": null,
   "metadata": {},
   "outputs": [],
   "source": [
    "train_dataset, test_dataset = create_dataset('cifar20', train_transform, train_transform)\n",
    "full_dataset = ConcatDataset([train_dataset, test_dataset])\n",
    "\n",
    "n_full_data = len(full_dataset)\n",
    "print(n_full_data)"
   ]
  },
  {
   "cell_type": "code",
   "execution_count": null,
   "metadata": {},
   "outputs": [],
   "source": [
    "full_loader = torch.utils.data.DataLoader(full_dataset,\n",
    "                                              batch_size=batch_size, shuffle=False,\n",
    "                                              num_workers=num_workers)"
   ]
  },
  {
   "cell_type": "code",
   "execution_count": null,
   "metadata": {},
   "outputs": [],
   "source": [
    "model, model_ema = create_model(model, n_class)"
   ]
  },
  {
   "cell_type": "code",
   "execution_count": null,
   "metadata": {},
   "outputs": [],
   "source": [
    "print(low_dim, n_full_data, nu, tau, n_class)\n",
    "elbo = MiCE_ELBO(low_dim, n_full_data, nu, tau=tau, n_class=n_class).cuda(\n",
    "        gpu)"
   ]
  },
  {
   "cell_type": "code",
   "execution_count": null,
   "metadata": {},
   "outputs": [],
   "source": [
    "ckpt = torch.load(test_path)\n",
    "model.load_state_dict(ckpt['model'])\n",
    "\n",
    "model_ema.load_state_dict(ckpt['model_ema'])\n",
    "elbo.load_state_dict(ckpt['elbo'])\n",
    "\n",
    "print(\"==> loaded checkpoint '{}' (epoch {})\".format(test_path, ckpt['epoch']))\n",
    "print('==> done')"
   ]
  },
  {
   "cell_type": "code",
   "execution_count": null,
   "metadata": {},
   "outputs": [],
   "source": [
    "model = model.cuda()\n",
    "model_ema = model_ema.cuda()\n",
    "model.eval()\n",
    "model_ema.eval()\n",
    "cudnn.benchmark = True\n",
    "\n",
    "n_data = len(full_dataset)"
   ]
  },
  {
   "cell_type": "code",
   "execution_count": null,
   "metadata": {},
   "outputs": [],
   "source": [
    "mice_acc, mice_pi_acc, mice_nmi, mice_ari = get_MiCE_performance(model, model_ema, elbo, full_loader, n_data, n_class)\n",
    "print(\"CMoE average:\", \" NMI:\", mice_nmi, \"| Cluster ACC:\", mice_acc, \"| ARI:\", mice_ari)"
   ]
  },
  {
   "cell_type": "code",
   "execution_count": null,
   "metadata": {},
   "outputs": [],
   "source": [
    "# CMoE average:  NMI: 0.45297985583434797 | Cluster ACC: 0.43505 | ARI: 0.2934524546004111"
   ]
  },
  {
   "cell_type": "markdown",
   "metadata": {},
   "source": [
    "## Attack training "
   ]
  },
  {
   "cell_type": "code",
   "execution_count": null,
   "metadata": {},
   "outputs": [],
   "source": [
    "import importlib\n",
    "torch.cuda.empty_cache()"
   ]
  },
  {
   "cell_type": "code",
   "execution_count": null,
   "metadata": {},
   "outputs": [],
   "source": [
    "import gan_attack"
   ]
  },
  {
   "cell_type": "code",
   "execution_count": null,
   "metadata": {},
   "outputs": [],
   "source": [
    "use_cuda=True\n",
    "image_nc=3\n",
    "epochs = 60\n",
    "batch_size = 128\n",
    "\n",
    "\n",
    "\n",
    "BOX_MIN = 0\n",
    "BOX_MAX = 1\n",
    "model_num_labels = 10\n",
    "device = 'cuda'"
   ]
  },
  {
   "cell_type": "code",
   "execution_count": null,
   "metadata": {},
   "outputs": [],
   "source": [
    "GAN = gan_attack.GAN_Attack(device, model, model_ema, elbo, model_num_labels, image_nc, BOX_MIN, BOX_MAX, 'new_256cifar20')"
   ]
  },
  {
   "cell_type": "code",
   "execution_count": null,
   "metadata": {},
   "outputs": [],
   "source": [
    "GAN.train(full_loader, 300)"
   ]
  },
  {
   "cell_type": "code",
   "execution_count": null,
   "metadata": {},
   "outputs": [],
   "source": [
    "ls models/"
   ]
  },
  {
   "cell_type": "markdown",
   "metadata": {},
   "source": [
    "## Testing attack"
   ]
  },
  {
   "cell_type": "code",
   "execution_count": null,
   "metadata": {},
   "outputs": [],
   "source": [
    "import models_clu\n",
    "use_cuda=True\n",
    "image_nc=3\n",
    "batch_size = 128\n",
    "device = 'cuda'\n",
    "gen_input_nc = image_nc\n",
    "# load the generator of adversarial examples\n",
    "# pretrained_generator_path = './models/netG_cc_epoch_120.pth'\n",
    "pretrained_generator_path = './models/netG_cc_new_256cifar20_epoch_90.pth'\n",
    "pretrained_G = models_clu.Generator(gen_input_nc, image_nc).to(device)\n",
    "pretrained_G.load_state_dict(torch.load(pretrained_generator_path))\n",
    "pretrained_G.eval()"
   ]
  },
  {
   "cell_type": "code",
   "execution_count": null,
   "metadata": {},
   "outputs": [],
   "source": [
    "import sys\n",
    "def get_MiCE_adv_performance(model, model_ema, elbo, dataloader, ndata, n_class, batchSize=100):\n",
    "    model.eval()\n",
    "    model_ema.eval()\n",
    "    all_cluster_labels = []\n",
    "    all_true_labels = []\n",
    "    all_pi_labels = []\n",
    "\n",
    "    with torch.no_grad():\n",
    "        for batch_idx, (inputs, targets) in enumerate(dataloader):\n",
    "            x1, x2, x3 = inputs[0].cuda(), inputs[1].cuda(), inputs[2].cuda()\n",
    "            \n",
    "            perturbation = pretrained_G(x1)\n",
    "            perturbation = torch.clamp(perturbation, -0.1, 0.1)\n",
    "            adv_img1 = perturbation + x1\n",
    "            adv_img1 = torch.clamp(adv_img1, 0, 1)\n",
    "            \n",
    "            perturbation = pretrained_G(x2)\n",
    "            perturbation = torch.clamp(perturbation, -0.1, 0.1)\n",
    "            adv_img2 = perturbation + x2\n",
    "            adv_img2 = torch.clamp(adv_img2, 0, 1)\n",
    "            \n",
    "            perturbation = pretrained_G(x3)\n",
    "            perturbation = torch.clamp(perturbation, -0.1, 0.1)\n",
    "            adv_img3 = perturbation + x3\n",
    "            adv_img3 = torch.clamp(adv_img3, 0, 1)\n",
    "            \n",
    "            targets = targets.cuda()\n",
    "            \n",
    "            with torch.no_grad():\n",
    "                f = model(adv_img1)\n",
    "                v = model_ema(adv_img2)\n",
    "                _, g = model(adv_img3, True)\n",
    "\n",
    "            loss, out, posterior, pi_logit = elbo(f, v, g)\n",
    "#             print(posterior)\n",
    "            feat_pseudo_label = torch.argmax(posterior, dim=1)  # batch x 1\n",
    "            pi_label = torch.argmax(pi_logit, dim=1)\n",
    "            all_cluster_labels.extend(list(feat_pseudo_label.data.cpu().numpy()))\n",
    "            all_true_labels.extend(list(targets.data.cpu().numpy()))\n",
    "            all_pi_labels.extend(list(pi_label.data.cpu().numpy()))\n",
    "\n",
    "    all_true_labels = np.array(all_true_labels)\n",
    "    all_cluster_labels = np.array(all_cluster_labels)\n",
    "    all_pi_labels = np.array(all_pi_labels)\n",
    "\n",
    "    print(\"True label stat:\", np.bincount(all_true_labels.astype(int)))\n",
    "    print(\"Cluster label stat:\", np.bincount(all_cluster_labels.astype(int)))\n",
    "\n",
    "    mice_acc = acc(all_true_labels, all_cluster_labels)\n",
    "    pi_cluster_acc = acc(all_true_labels, all_pi_labels)\n",
    "\n",
    "    nmi = metrics.normalized_mutual_info_score(labels_true=all_true_labels, labels_pred=all_cluster_labels)\n",
    "    ari = metrics.adjusted_rand_score(labels_true=all_true_labels, labels_pred=all_cluster_labels)\n",
    "    return mice_acc, pi_cluster_acc, nmi, ari"
   ]
  },
  {
   "cell_type": "code",
   "execution_count": null,
   "metadata": {},
   "outputs": [],
   "source": [
    "def save_examples(images, labels, noise=False, bno=0, adv=False, orig=False):\n",
    "    print(type(images[0]), type(labels))\n",
    "#     MEAN = torch.tensor([0.4914, 0.4822, 0.4465]).cuda() #c10\n",
    "#     STD = torch.tensor([0.2023, 0.1994, 0.2010]).cuda() #c10\n",
    "#     MEAN = torch.tensor([0.5071, 0.4867, 0.4408]).cuda()\n",
    "#     STD = torch.tensor([0.2675, 0.2565, 0.2761]).cuda()\n",
    "    MEAN = torch.tensor([0.5071, 0.4867, 0.4408]).cuda()\n",
    "     \n",
    "    STD = torch.tensor([0.2675, 0.2565, 0.2761]).cuda()\n",
    "    \n",
    "    for i in range(min(len(images), 20)):\n",
    "        img = images[i]\n",
    "        img = img * STD[:, None, None] + MEAN[:, None, None]\n",
    "        npimg = img.detach().cpu().numpy()   # convert from tensor\n",
    "        npimg = np.clip(npimg, 0, 1)\n",
    "        if orig:\n",
    "#             npimg = np.transpose(npimg, (1, 2, 0))\n",
    "            plt.imsave(f'../../Images/C100/MICE/orig/MICE_c100_b{bno}_{i}_lab{labels[i]:02}.png', npimg.T, dpi=600)\n",
    "            continue\n",
    "        if adv:\n",
    "#             npimg = np.transpose(npimg, (1, 2, 0))\n",
    "            plt.imsave(f'../../Images/C100/MICE/adv/MICE_c100_b{bno}_{i}_lab{labels[i]:02}.png', npimg.T, dpi=600)\n",
    "            continue\n",
    "        if noise:\n",
    "            npimg = npimg / 2 + 0.5 \n",
    "            plt.imsave(f'../../Images/C100/MICE/noise/MICE_c100_b{bno}_{i}_noise_lab{labels[i]:02}.png', npimg.T, dpi=600)\n",
    "            continue"
   ]
  },
  {
   "cell_type": "code",
   "execution_count": null,
   "metadata": {},
   "outputs": [],
   "source": [
    "import sys\n",
    "def get_MiCE_adv_performance_save(model, model_ema, elbo, dataloader, ndata, n_class, batchSize=100):\n",
    "    model.eval()\n",
    "    model_ema.eval()\n",
    "    all_cluster_labels = []\n",
    "    all_true_labels = []\n",
    "    all_pi_labels = []\n",
    "\n",
    "    with torch.no_grad():\n",
    "        for batch_idx, (inputs, targets) in enumerate(dataloader):\n",
    "            x1, x2, x3 = inputs[0].cuda(), inputs[1].cuda(), inputs[2].cuda()\n",
    "            \n",
    "            perturbation = pretrained_G(x1)\n",
    "            perturbation = torch.clamp(perturbation, -0.1, 0.1)\n",
    "            adv_img1 = perturbation + x1\n",
    "#             adv_img1 = torch.clamp(adv_img1, 0, 1)\n",
    "            \n",
    "            perturbation = pretrained_G(x2)\n",
    "            perturbation = torch.clamp(perturbation, -0.1, 0.1)\n",
    "            adv_img2 = perturbation + x2\n",
    "#             adv_img2 = torch.clamp(adv_img2, 0, 1)\n",
    "            \n",
    "            perturbation = pretrained_G(x3)\n",
    "            perturbation = torch.clamp(perturbation, -0.1, 0.1)\n",
    "            adv_img3 = perturbation + x3\n",
    "#             adv_img3 = torch.clamp(adv_img3, 0, 1)\n",
    "            \n",
    "            targets = targets.cuda()\n",
    "            \n",
    "            with torch.no_grad():\n",
    "                f = model(adv_img1)\n",
    "                v = model_ema(adv_img2)\n",
    "                _, g = model(adv_img3, True)\n",
    "\n",
    "            loss, out, posterior, pi_logit = elbo(f, v, g)\n",
    "#             print(posterior)\n",
    "            feat_pseudo_label = torch.argmax(posterior, dim=1)  # batch x 1\n",
    "            pi_label = torch.argmax(pi_logit, dim=1)\n",
    "            all_cluster_labels.extend(list(feat_pseudo_label.data.cpu().numpy()))\n",
    "            all_true_labels.extend(list(targets.data.cpu().numpy()))\n",
    "            all_pi_labels.extend(list(pi_label.data.cpu().numpy()))\n",
    "            save_examples(x3, targets.data.cpu().numpy(), bno=batch_idx, orig=True)\n",
    "            save_examples(adv_img3, pi_label, bno=batch_idx, adv=True)\n",
    "            save_examples(perturbation, pi_label, bno=batch_idx, noise=True)\n",
    "    all_true_labels = np.array(all_true_labels)\n",
    "    all_cluster_labels = np.array(all_cluster_labels)\n",
    "    all_pi_labels = np.array(all_pi_labels)\n",
    "\n",
    "    print(\"True label stat:\", np.bincount(all_true_labels.astype(int)))\n",
    "    print(\"Cluster label stat:\", np.bincount(all_cluster_labels.astype(int)))\n",
    "\n",
    "    mice_acc = acc(all_true_labels, all_cluster_labels)\n",
    "    pi_cluster_acc = acc(all_true_labels, all_pi_labels)\n",
    "\n",
    "    nmi = metrics.normalized_mutual_info_score(labels_true=all_true_labels, labels_pred=all_cluster_labels)\n",
    "    ari = metrics.adjusted_rand_score(labels_true=all_true_labels, labels_pred=all_cluster_labels)\n",
    "    return mice_acc, pi_cluster_acc, nmi, ari"
   ]
  },
  {
   "cell_type": "code",
   "execution_count": null,
   "metadata": {},
   "outputs": [],
   "source": [
    "#saving adv images"
   ]
  },
  {
   "cell_type": "code",
   "execution_count": null,
   "metadata": {
    "scrolled": true
   },
   "outputs": [],
   "source": [
    "# mice_acc, mice_pi_acc, mice_nmi, mice_ari = get_MiCE_adv_performance_save(model, model_ema, elbo, full_loader, n_data, n_class)"
   ]
  },
  {
   "cell_type": "code",
   "execution_count": null,
   "metadata": {},
   "outputs": [],
   "source": [
    "import sys\n",
    "import string\n",
    "import eval_cus\n",
    "def get_MiCE_adv_performance_norm(model, model_ema, elbo, dataloader, ndata, n_class, clamp=0.1, batchSize=100):\n",
    "    model.eval()\n",
    "    model_ema.eval()\n",
    "    all_cluster_labels = []\n",
    "    all_true_labels = []\n",
    "    all_pi_labels = []\n",
    "    norm = 0.0\n",
    "\n",
    "    with torch.no_grad():\n",
    "        for batch_idx, (inputs, targets) in enumerate(dataloader):\n",
    "            x1, x2, x3 = inputs[0].cuda(), inputs[1].cuda(), inputs[2].cuda()\n",
    "            \n",
    "            perturbation = pretrained_G(x1)\n",
    "            perturbation = torch.clamp(perturbation, -clamp, clamp)\n",
    "            adv_img1 = perturbation + x1\n",
    "#             adv_img1 = torch.clamp(adv_img1, 0, 1)\n",
    "            \n",
    "            perturbation = pretrained_G(x2)\n",
    "            perturbation = torch.clamp(perturbation, -clamp, clamp)\n",
    "            adv_img2 = perturbation + x2\n",
    "#             adv_img2 = torch.clamp(adv_img2, 0, 1)\n",
    "            \n",
    "            perturbation = pretrained_G(x3)\n",
    "            perturbation = torch.clamp(perturbation, -clamp, clamp)\n",
    "            adv_img3 = perturbation + x3\n",
    "#             adv_img3 = torch.clamp(adv_img3, 0, 1)\n",
    "            \n",
    "            targets = targets.cuda()\n",
    "            norm += torch.mean(torch.norm(perturbation.view(perturbation.shape[0], -1), 2, dim=1)).to('cpu').item()\n",
    "            \n",
    "            with torch.no_grad():\n",
    "                f = model(adv_img1)\n",
    "                v = model_ema(adv_img2)\n",
    "                _, g = model(adv_img3, True)\n",
    "\n",
    "            loss, out, posterior, pi_logit = elbo(f, v, g)\n",
    "#             print(posterior)\n",
    "            feat_pseudo_label = torch.argmax(posterior, dim=1)  # batch x 1\n",
    "            pi_label = torch.argmax(pi_logit, dim=1)\n",
    "            all_cluster_labels.extend(list(feat_pseudo_label.data.cpu().numpy()))\n",
    "            all_true_labels.extend(list(targets.data.cpu().numpy()))\n",
    "            all_pi_labels.extend(list(pi_label.data.cpu().numpy()))\n",
    "\n",
    "    all_true_labels = np.array(all_true_labels)\n",
    "    all_cluster_labels = np.array(all_cluster_labels)\n",
    "    all_pi_labels = np.array(all_pi_labels)\n",
    "    \n",
    "    class_names = list(string.ascii_uppercase)[:20]\n",
    "    labels_gt = torch.from_numpy(all_true_labels).cuda()\n",
    "    labels_pred = torch.from_numpy(all_cluster_labels).cuda()\n",
    "    \n",
    "    print(\"True label stat:\", np.bincount(all_true_labels.astype(int)))\n",
    "    print(\"Cluster label stat:\", np.bincount(all_cluster_labels.astype(int)))\n",
    "    \n",
    "    clustering_stats_adv = eval_cus.check(labels_gt, labels_pred, 20, class_names, \n",
    "                                        compute_confusion_matrix=True, cf20=True, output_file2=f'MICE_c100_{clamp}_n{norm/len(dataloader)}.pdf')\n",
    "\n",
    "    print(\"True label stat:\", np.bincount(all_true_labels.astype(int)))\n",
    "    print(\"Cluster label stat:\", np.bincount(all_cluster_labels.astype(int)))\n",
    "\n",
    "    mice_acc = acc(all_true_labels, all_cluster_labels)\n",
    "    pi_cluster_acc = acc(all_true_labels, all_pi_labels)\n",
    "\n",
    "    nmi = metrics.normalized_mutual_info_score(labels_true=all_true_labels, labels_pred=all_cluster_labels)\n",
    "    ari = metrics.adjusted_rand_score(labels_true=all_true_labels, labels_pred=all_cluster_labels)\n",
    "    return mice_acc, pi_cluster_acc, nmi, ari, norm/len(dataloader)"
   ]
  },
  {
   "cell_type": "code",
   "execution_count": null,
   "metadata": {
    "scrolled": true
   },
   "outputs": [],
   "source": [
    "mice_acc, mice_pi_acc, mice_nmi, mice_ari = get_MiCE_adv_performance(model, model_ema, elbo, full_loader, n_data, n_class)\n",
    "print(\"CMoE average:\", \" NMI:\", mice_nmi, \"| Cluster ACC:\", mice_acc, \"| ARI:\", mice_ari)"
   ]
  },
  {
   "cell_type": "code",
   "execution_count": null,
   "metadata": {},
   "outputs": [],
   "source": [
    "mice_acc, mice_pi_acc, mice_nmi, mice_ari, norm = get_MiCE_adv_performance_norm(model, model_ema, elbo, full_loader, n_data, n_class, clamp=0)\n",
    "print(\"CMoE average:\", \" NMI:\", mice_nmi, \"| Cluster ACC:\", mice_acc, \"| ARI:\", mice_ari, '| Norm', norm)"
   ]
  },
  {
   "cell_type": "code",
   "execution_count": null,
   "metadata": {},
   "outputs": [],
   "source": [
    "import importlib\n",
    "importlib.reload(eval_cus)"
   ]
  },
  {
   "cell_type": "code",
   "execution_count": null,
   "metadata": {
    "scrolled": true
   },
   "outputs": [],
   "source": [
    "norm_l = []\n",
    "nmi_l = []\n",
    "ari_l = []\n",
    "acc_l = []\n",
    "# clamp = [j for j in range(0, 1, 0.02)]\n",
    "# clamp = [j for j in np.arange(0, 1.05, 0.05)]\n",
    "# clamp = [0.0, 0.01, 0.02, 0.03, 0.04, 0.05, 0.1, 0.15, 0.2, 0.25, 0.30, 0.35, 0.4, 0.45, 0.5, 0.55, 0.60, 0.65, 0.70, 0.75, 0.8, 0.85, 0.9, 0.95, 1.0]\n",
    "# clamp = [0, 0.001, 0.003, 0.005, 0.007, 0.01, 0.015, 0.02, 0.025, 0.03, 0.04, 0.05, 0.1, 0.15, 0.2, 0.25, 0.30, 0.35, 0.4, 0.5, 0.6, 0.7, 0.8, 0.9, 1.0]\n",
    "clamp = [0, 0.1, 1]\n",
    "print(clamp)\n",
    "\n",
    "for j in clamp:\n",
    "    torch.cuda.empty_cache()\n",
    "    mice_pi_acc, mice_acc,mice_nmi, mice_ari, mice_norm = get_MiCE_adv_performance_norm(model, model_ema, elbo, full_loader, n_data, n_class, clamp=j)\n",
    "\n",
    "\n",
    "    nmi2 =  mice_nmi\n",
    "    ari2 = mice_ari\n",
    "    acc2 = mice_pi_acc\n",
    "    norm2 = mice_norm\n",
    "    \n",
    "    print(f'clamp {j} avg norm: {norm2}')\n",
    "    print('NMI = {:.4f} ARI = {:.4f} ACC = {:.4f}'.format(nmi2, ari2, acc2))\n",
    "    norm_l.append(norm2)\n",
    "    nmi_l.append(nmi2)\n",
    "    ari_l.append(ari2)\n",
    "    acc_l.append(acc2)"
   ]
  },
  {
   "cell_type": "code",
   "execution_count": null,
   "metadata": {},
   "outputs": [],
   "source": [
    "print(norm_l)\n",
    "print()\n",
    "print(nmi_l)\n",
    "print()\n",
    "print(ari_l)\n",
    "print()\n",
    "print(acc_l)"
   ]
  },
  {
   "cell_type": "code",
   "execution_count": null,
   "metadata": {},
   "outputs": [],
   "source": [
    "# CMoE average:  NMI: 0.7345571365488963 | Cluster ACC: 0.8332333333333334 | ARI: 0.6943247673094869\n",
    "# CMoE average:  NMI: 0.2893362774346905 | Cluster ACC: 0.43685 | ARI: 0.11563323700093103\n"
   ]
  },
  {
   "cell_type": "markdown",
   "metadata": {},
   "source": [
    "# transferability"
   ]
  },
  {
   "cell_type": "code",
   "execution_count": null,
   "metadata": {},
   "outputs": [],
   "source": [
    "import models_clu\n",
    "use_cuda=True\n",
    "image_nc=3\n",
    "batch_size = 128\n",
    "\n",
    "gen_input_nc = image_nc\n",
    "# load the generator of adversarial examples\n",
    "# pretrained_generator_path = './models/netG_cc_epoch_120.pth'\n",
    "pretrained_generator_path = '../../Generator_Models/CIFAR100/netG_cc_CIFAR-100_epoch_120.pth'\n",
    "pretrained_G = models_clu.Generator(gen_input_nc, image_nc).to(device)\n",
    "pretrained_G.load_state_dict(torch.load(pretrained_generator_path))\n",
    "pretrained_G.eval()\n",
    "\n",
    "mice_acc, mice_pi_acc, mice_nmi, mice_ari = get_MiCE_adv_performance(model, model_ema, elbo, full_loader, n_data, n_class)\n",
    "print(\"CMoE average:\", \" NMI:\", mice_nmi, \"| Cluster ACC:\", mice_acc, \"| ARI:\", mice_ari)"
   ]
  },
  {
   "cell_type": "code",
   "execution_count": null,
   "metadata": {},
   "outputs": [],
   "source": [
    "import models_clu\n",
    "use_cuda=True\n",
    "image_nc=3\n",
    "batch_size = 128\n",
    "\n",
    "gen_input_nc = image_nc\n",
    "# load the generator of adversarial examples\n",
    "# pretrained_generator_path = './models/netG_cc_epoch_120.pth'\n",
    "pretrained_generator_path = '../../Generator_Models/CIFAR100/netG_NNM_CIFAR20.pth'\n",
    "pretrained_G = models_clu.Generator(gen_input_nc, image_nc).to(device)\n",
    "pretrained_G.load_state_dict(torch.load(pretrained_generator_path))\n",
    "pretrained_G.eval()\n",
    "\n",
    "mice_acc, mice_pi_acc, mice_nmi, mice_ari = get_MiCE_adv_performance(model, model_ema, elbo, full_loader, n_data, n_class)\n",
    "print(\"CMoE average:\", \" NMI:\", mice_nmi, \"| Cluster ACC:\", mice_acc, \"| ARI:\", mice_ari)"
   ]
  },
  {
   "cell_type": "code",
   "execution_count": null,
   "metadata": {},
   "outputs": [],
   "source": [
    "import models_clu\n",
    "use_cuda=True\n",
    "image_nc=3\n",
    "batch_size = 128\n",
    "\n",
    "gen_input_nc = image_nc\n",
    "# load the generator of adversarial examples\n",
    "# pretrained_generator_path = './models/netG_cc_epoch_120.pth'\n",
    "pretrained_generator_path = '../../Generator_Models/CIFAR100/netG_SCAN_CIFAR20.pth'\n",
    "pretrained_G = models_clu.Generator(gen_input_nc, image_nc).to(device)\n",
    "pretrained_G.load_state_dict(torch.load(pretrained_generator_path))\n",
    "pretrained_G.eval()\n",
    "\n",
    "mice_acc, mice_pi_acc, mice_nmi, mice_ari = get_MiCE_adv_performance(model, model_ema, elbo, full_loader, n_data, n_class)\n",
    "print(\"CMoE average:\", \" NMI:\", mice_nmi, \"| Cluster ACC:\", mice_acc, \"| ARI:\", mice_ari)"
   ]
  },
  {
   "cell_type": "code",
   "execution_count": null,
   "metadata": {},
   "outputs": [],
   "source": [
    "import models_clu\n",
    "use_cuda=True\n",
    "image_nc=3\n",
    "batch_size = 128\n",
    "\n",
    "gen_input_nc = image_nc\n",
    "# load the generator of adversarial examples\n",
    "# pretrained_generator_path = './models/netG_cc_epoch_120.pth'\n",
    "pretrained_generator_path = '../../Generator_Models/CIFAR100/netG_RUC_CIFAR20.pth'\n",
    "pretrained_G = models_clu.Generator(gen_input_nc, image_nc).to(device)\n",
    "pretrained_G.load_state_dict(torch.load(pretrained_generator_path))\n",
    "pretrained_G.eval()\n",
    "\n",
    "mice_acc, mice_pi_acc, mice_nmi, mice_ari = get_MiCE_adv_performance(model, model_ema, elbo, full_loader, n_data, n_class)\n",
    "print(\"CMoE average:\", \" NMI:\", mice_nmi, \"| Cluster ACC:\", mice_acc, \"| ARI:\", mice_ari)"
   ]
  },
  {
   "cell_type": "code",
   "execution_count": null,
   "metadata": {},
   "outputs": [],
   "source": [
    "import models_clu\n",
    "use_cuda=True\n",
    "image_nc=3\n",
    "batch_size = 128\n",
    "\n",
    "gen_input_nc = image_nc\n",
    "# load the generator of adversarial examples\n",
    "# pretrained_generator_path = './models/netG_cc_epoch_120.pth'\n",
    "pretrained_generator_path = '../../Generator_Models/CIFAR100/netG_SPICE_CIFAR20.pth'\n",
    "pretrained_G = models_clu.Generator(gen_input_nc, image_nc).to(device)\n",
    "pretrained_G.load_state_dict(torch.load(pretrained_generator_path))\n",
    "pretrained_G.eval()\n",
    "\n",
    "mice_acc, mice_pi_acc, mice_nmi, mice_ari = get_MiCE_adv_performance(model, model_ema, elbo, full_loader, n_data, n_class)\n",
    "print(\"CMoE average:\", \" NMI:\", mice_nmi, \"| Cluster ACC:\", mice_acc, \"| ARI:\", mice_ari)"
   ]
  },
  {
   "cell_type": "code",
   "execution_count": null,
   "metadata": {},
   "outputs": [],
   "source": []
  }
 ],
 "metadata": {
  "kernelspec": {
   "display_name": "Python 3",
   "language": "python",
   "name": "python3"
  },
  "language_info": {
   "codemirror_mode": {
    "name": "ipython",
    "version": 3
   },
   "file_extension": ".py",
   "mimetype": "text/x-python",
   "name": "python",
   "nbconvert_exporter": "python",
   "pygments_lexer": "ipython3",
   "version": "3.7.3"
  }
 },
 "nbformat": 4,
 "nbformat_minor": 2
}
